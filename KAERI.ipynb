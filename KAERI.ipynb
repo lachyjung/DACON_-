{
  "nbformat": 4,
  "nbformat_minor": 0,
  "metadata": {
    "colab": {
      "name": "KAERI.ipynb",
      "provenance": [],
      "collapsed_sections": [],
      "mount_file_id": "1GFWtJPvE32hLRb_Cq1EdXMZeXNc923ra",
      "authorship_tag": "ABX9TyM0UewuYAy8Vy/i16bpJoSF",
      "include_colab_link": true
    },
    "kernelspec": {
      "name": "python3",
      "display_name": "Python 3"
    }
  },
  "cells": [
    {
      "cell_type": "markdown",
      "metadata": {
        "id": "view-in-github",
        "colab_type": "text"
      },
      "source": [
        "<a href=\"https://colab.research.google.com/github/lachyjung/DACON_-/blob/master/KAERI.ipynb\" target=\"_parent\"><img src=\"https://colab.research.google.com/assets/colab-badge.svg\" alt=\"Open In Colab\"/></a>"
      ]
    },
    {
      "cell_type": "code",
      "metadata": {
        "id": "AEX6Y6VP-NyI",
        "colab_type": "code",
        "colab": {}
      },
      "source": [
        "import pandas as pd\n",
        "import numpy as np\n",
        "import torch\n",
        "from torch.utils.data import Dataset, DataLoader\n",
        "from torch import nn\n",
        "from torch.nn import Module\n",
        "import matplotlib.pyplot as plt"
      ],
      "execution_count": null,
      "outputs": []
    },
    {
      "cell_type": "code",
      "metadata": {
        "id": "VJbPQV_xVKZe",
        "colab_type": "code",
        "colab": {}
      },
      "source": [
        "if torch.cuda.is_available():\n",
        "  device = torch.device(\"cuda\")\n",
        "else:\n",
        "  device = torch.device(\"cpu\")"
      ],
      "execution_count": null,
      "outputs": []
    },
    {
      "cell_type": "code",
      "metadata": {
        "id": "H90boaY9Z-x7",
        "colab_type": "code",
        "colab": {
          "base_uri": "https://localhost:8080/",
          "height": 34
        },
        "outputId": "7986be49-5e33-41d4-cc17-92759d6c7a80"
      },
      "source": [
        "print(device)"
      ],
      "execution_count": null,
      "outputs": [
        {
          "output_type": "stream",
          "text": [
            "cpu\n"
          ],
          "name": "stdout"
        }
      ]
    },
    {
      "cell_type": "code",
      "metadata": {
        "id": "a8QQ7fVI-38U",
        "colab_type": "code",
        "colab": {
          "base_uri": "https://localhost:8080/",
          "height": 34
        },
        "outputId": "911150a6-90ad-4406-96f5-0f62112c92d9"
      },
      "source": [
        "'''train_data = pd.read_csv('/content/drive/My Drive/충돌체/KAERI_dataset/train_features.csv')\n",
        "\n",
        "test_data = pd.read_csv('/content/drive/My Drive/충돌체/KAERI_dataset/train_target.csv')'''"
      ],
      "execution_count": null,
      "outputs": [
        {
          "output_type": "execute_result",
          "data": {
            "text/plain": [
              "\"train_data = pd.read_csv('/content/drive/My Drive/충돌체/KAERI_dataset/train_features.csv')\\n\\ntest_data = pd.read_csv('/content/drive/My Drive/충돌체/KAERI_dataset/train_target.csv')\""
            ]
          },
          "metadata": {
            "tags": []
          },
          "execution_count": 60
        }
      ]
    },
    {
      "cell_type": "code",
      "metadata": {
        "id": "gQ7aY5QWcQFL",
        "colab_type": "code",
        "colab": {}
      },
      "source": [
        "#train_data.iloc[:,2:].tail(10)"
      ],
      "execution_count": null,
      "outputs": []
    },
    {
      "cell_type": "code",
      "metadata": {
        "id": "g_AIGa5M1JkB",
        "colab_type": "code",
        "colab": {}
      },
      "source": [
        "#test_data.iloc[:,1:].tail(10)"
      ],
      "execution_count": null,
      "outputs": []
    },
    {
      "cell_type": "code",
      "metadata": {
        "id": "WUW-8rL6AHuJ",
        "colab_type": "code",
        "colab": {
          "base_uri": "https://localhost:8080/",
          "height": 34
        },
        "outputId": "a0227f6e-88aa-4443-c6cb-f7c97feb2462"
      },
      "source": [
        "'''train_data.info()\n",
        "test_data.info()'''"
      ],
      "execution_count": null,
      "outputs": [
        {
          "output_type": "execute_result",
          "data": {
            "text/plain": [
              "'train_data.info()\\ntest_data.info()'"
            ]
          },
          "metadata": {
            "tags": []
          },
          "execution_count": 63
        }
      ]
    },
    {
      "cell_type": "code",
      "metadata": {
        "id": "3FpFBgPia0YN",
        "colab_type": "code",
        "colab": {
          "base_uri": "https://localhost:8080/",
          "height": 34
        },
        "outputId": "d8b13e37-6440-4457-d731-20772ba82c1d"
      },
      "source": [
        "\"\"\"index_for_batch = train_data.id\n",
        "count=index_for_batch.value_counts()\n",
        "count.unique()\"\"\""
      ],
      "execution_count": null,
      "outputs": [
        {
          "output_type": "execute_result",
          "data": {
            "text/plain": [
              "'index_for_batch = train_data.id\\ncount=index_for_batch.value_counts()\\ncount.unique()'"
            ]
          },
          "metadata": {
            "tags": []
          },
          "execution_count": 64
        }
      ]
    },
    {
      "cell_type": "code",
      "metadata": {
        "id": "0B-pEltTvPlW",
        "colab_type": "code",
        "colab": {}
      },
      "source": [
        "class my_train_dataset(Dataset):\n",
        "  def __init__(self):\n",
        "    #set_window\n",
        "    self.window = 375\n",
        "\n",
        "    #train_feature_data\n",
        "    self.train_features = pd.read_csv('/content/drive/My Drive/충돌체/KAERI_dataset/train_features.csv')\n",
        "    self.train_features = self.train_features.iloc[:,2:]\n",
        "\n",
        "    #normalize with min-max\n",
        "    self.max_feature = self.train_features.max().max()\n",
        "    self.min_feature = self.train_features.min().min()\n",
        "    self.div_feature = self.max_feature - self.min_feature\n",
        "    self.train_features = np.divide((self.train_features-self.min_feature),self.div_feature)\n",
        "    \n",
        "\n",
        "    self.train_features = torch.from_numpy(np.array(self.train_features)).float()\n",
        "    self.train_features, self.val_features = torch.utils.data.random_split(self.train_features, [1900*self.window, 900*self.window])\n",
        "\n",
        "\n",
        "    #train_target_data\n",
        "    self.train_target = pd.read_csv('/content/drive/My Drive/충돌체/KAERI_dataset/train_target.csv')\n",
        "    self.train_target = self.train_target.iloc[:,1:]\n",
        "\n",
        "    #normalize with (train_features)min-max\n",
        "    self.train_target = np.divide((self.train_target-self.min_feature),self.div_feature)\n",
        "\n",
        "    self.train_target = torch.from_numpy(np.array(self.train_target)).float()\n",
        "    self.train_target, self.val_target = torch.utils.data.random_split(self.train_target, [1900, 900])\n",
        "\n",
        "   \n",
        "\n",
        "  def __getitem__(self, index):\n",
        "    return self.train_features[(self.window * index): (self.window * index)+ self.window], self.train_target[index]\n",
        "\n",
        "  def __len__(self):\n",
        "    return len(self.train_target)\n"
      ],
      "execution_count": null,
      "outputs": []
    },
    {
      "cell_type": "code",
      "metadata": {
        "id": "W8hJeYNGZQ1k",
        "colab_type": "code",
        "colab": {}
      },
      "source": [
        "class my_val_dataset(my_train_dataset):\n",
        "\n",
        "  def __getitem__(self, index):\n",
        "    return self.val_features[(self.window * index): (self.window * index)+ self.window], self.val_target[index]\n",
        "\n",
        "  def __len__(self):\n",
        "    #put side 300 data for test\n",
        "    return len(self.val_target)-300"
      ],
      "execution_count": null,
      "outputs": []
    },
    {
      "cell_type": "code",
      "metadata": {
        "id": "HHkKVK5Pv820",
        "colab_type": "code",
        "colab": {}
      },
      "source": [
        "feed_data = my_train_dataset()\n",
        "train_loader = DataLoader(dataset=feed_data, batch_size = 20, shuffle=False)\n",
        "\n",
        "val_data = my_val_dataset()\n",
        "val_loader = DataLoader(dataset=val_data, batch_size = 20, shuffle=False)"
      ],
      "execution_count": null,
      "outputs": []
    },
    {
      "cell_type": "code",
      "metadata": {
        "id": "7hVTdbvh3guD",
        "colab_type": "code",
        "colab": {
          "base_uri": "https://localhost:8080/",
          "height": 34
        },
        "outputId": "402db782-1031-414c-db82-b0661b3d9703"
      },
      "source": [
        "print(next(iter(train_loader))[0].shape[0])"
      ],
      "execution_count": null,
      "outputs": [
        {
          "output_type": "stream",
          "text": [
            "20\n"
          ],
          "name": "stdout"
        }
      ]
    },
    {
      "cell_type": "code",
      "metadata": {
        "id": "0YlK6v0l0Qo0",
        "colab_type": "code",
        "colab": {}
      },
      "source": [
        "class myModel(Module):\n",
        "  def __init__(self, input_dim, hidden_dim, output_dim):\n",
        "    super(myModel,self).__init__()\n",
        "    self.lstm = nn.LSTM(input_dim, hidden_dim, 1,batch_first=True)\n",
        "    self.fc_1 = nn.Linear(hidden_dim, 50, bias=True)\n",
        "    self.fc_2= nn.Linear(50,20, bias=True)\n",
        "    self.output = nn.Linear(20, output_dim, bias=True)\n",
        "    \n",
        "    self.relu = nn.ReLU()\n",
        "    self.dropout = nn.Dropout(0.5)\n",
        "    self.hidden_dim = hidden_dim\n",
        "  \n",
        "\n",
        "  def forward(self, inputs):\n",
        "    lstm_out, hidden_cell = self.lstm(inputs, (torch.zeros(1,inputs.shape[0] ,self.hidden_dim), torch.zeros(1,inputs.shape[0] ,self.hidden_dim)))\n",
        "    layer_1 = self.dropout(self.relu(self.fc_1(hidden_cell[0])))\n",
        "    layer_2 = self.dropout(self.relu(self.fc_2(layer_1)))\n",
        "    prediction = self.output(layer_2)\n",
        "    return prediction\n"
      ],
      "execution_count": null,
      "outputs": []
    },
    {
      "cell_type": "code",
      "metadata": {
        "id": "x3eMDnOWn9zm",
        "colab_type": "code",
        "colab": {}
      },
      "source": [
        "model = myModel(4,20,4)"
      ],
      "execution_count": null,
      "outputs": []
    },
    {
      "cell_type": "code",
      "metadata": {
        "id": "uxk1z0LOoIHp",
        "colab_type": "code",
        "colab": {
          "base_uri": "https://localhost:8080/",
          "height": 34
        },
        "outputId": "64b5df59-33ff-49ac-e24c-d23c8f14c721"
      },
      "source": [
        "print(model.state_dict().keys())"
      ],
      "execution_count": null,
      "outputs": [
        {
          "output_type": "stream",
          "text": [
            "odict_keys(['lstm.weight_ih_l0', 'lstm.weight_hh_l0', 'lstm.bias_ih_l0', 'lstm.bias_hh_l0', 'fc_1.weight', 'fc_1.bias', 'fc_2.weight', 'fc_2.bias', 'output.weight', 'output.bias'])\n"
          ],
          "name": "stdout"
        }
      ]
    },
    {
      "cell_type": "code",
      "metadata": {
        "id": "bRXtXPmQ0p1G",
        "colab_type": "code",
        "colab": {
          "base_uri": "https://localhost:8080/",
          "height": 1000
        },
        "outputId": "09f4b4ee-243e-4b71-d380-73aa7e9bc783"
      },
      "source": [
        "\n",
        "with torch.autograd.set_detect_anomaly(True):\n",
        "  model = myModel(4,20,4)\n",
        "  #model = model.to(device)\n",
        "  \n",
        "  criterion = nn.MSELoss()\n",
        "  optimizer = torch.optim.SGD(model.parameters(), lr=0.01, momentum=0.5)\n",
        "  train_history = []\n",
        "  val_history=[]\n",
        "\n",
        "\n",
        "  for epoch in range(1000):\n",
        "    if (len(val_history)>10) and  (val_history[-3] < val_history[-1]):\n",
        "      \n",
        "      print(f'train_terminated in epoch{epoch-1} & model_saved')\n",
        "      break\n",
        "    \n",
        "    else:\n",
        "\n",
        "      model.train()\n",
        "      for i, data in enumerate(train_loader, 0):\n",
        "        feat, targ = data\n",
        "        #feat, targ = feat.to(device), targ.to(device)\n",
        "        y_pred = model(feat)\n",
        "        \n",
        "        loss = criterion(y_pred[0], targ)\n",
        "        \n",
        "        loss.backward(retain_graph=True)\n",
        "        optimizer.step()\n",
        "        optimizer.zero_grad()\n",
        "\n",
        "        if i % 10 == 0:\n",
        "          print(f'epoch:{epoch} <{i}> iter:{int((i/(1900/20))*100)}%   loss:{loss.item()}' )\n",
        "       \n",
        "      train_history.append(loss.item()) \n",
        "      torch.save(model.state_dict(), '/content/drive/My Drive/충돌체/model_history/best_model.pth') \n",
        "        \n",
        "      model.eval()\n",
        "      temp = []\n",
        "      for val_feat, val_targ in val_loader:\n",
        "          #val_feat, val_targ = val_feat.to(device), val_targ.to(device)\n",
        "              \n",
        "          val_pred = model(val_feat)\n",
        "          val_loss = criterion(val_pred[0], val_targ)\n",
        "          temp.append(val_loss.item())\n",
        "      val_history.append(np.array(temp).mean())\n",
        "      del(temp)\n",
        "        \n",
        "      print(f'***********   epoch:{epoch}  val_loss:{val_history[-1]}***********' )\n",
        "\n"
      ],
      "execution_count": null,
      "outputs": [
        {
          "output_type": "stream",
          "text": [
            "epoch:0 <0> iter:0%   loss:0.4237394332885742\n",
            "epoch:0 <10> iter:10%   loss:0.3394143879413605\n",
            "epoch:0 <20> iter:21%   loss:0.261219322681427\n",
            "epoch:0 <30> iter:31%   loss:0.20873360335826874\n",
            "epoch:0 <40> iter:42%   loss:0.14814843237400055\n",
            "epoch:0 <50> iter:52%   loss:0.11711053550243378\n",
            "epoch:0 <60> iter:63%   loss:0.09490682184696198\n",
            "epoch:0 <70> iter:73%   loss:0.06727127730846405\n",
            "epoch:0 <80> iter:84%   loss:0.05217136815190315\n",
            "epoch:0 <90> iter:94%   loss:0.047667041420936584\n",
            "***********   epoch:0  val_loss:0.026048645563423633***********\n",
            "epoch:1 <0> iter:0%   loss:0.034408602863550186\n",
            "epoch:1 <10> iter:10%   loss:0.028701409697532654\n",
            "epoch:1 <20> iter:21%   loss:0.029278546571731567\n",
            "epoch:1 <30> iter:31%   loss:0.03206833079457283\n",
            "epoch:1 <40> iter:42%   loss:0.018624598160386086\n",
            "epoch:1 <50> iter:52%   loss:0.012935502454638481\n",
            "epoch:1 <60> iter:63%   loss:0.018366167321801186\n",
            "epoch:1 <70> iter:73%   loss:0.020213229581713676\n",
            "epoch:1 <80> iter:84%   loss:0.019260704517364502\n",
            "epoch:1 <90> iter:94%   loss:0.016176283359527588\n",
            "***********   epoch:1  val_loss:0.002289334793264667***********\n",
            "epoch:2 <0> iter:0%   loss:0.013918360695242882\n",
            "epoch:2 <10> iter:10%   loss:0.01311691664159298\n",
            "epoch:2 <20> iter:21%   loss:0.014205713756382465\n",
            "epoch:2 <30> iter:31%   loss:0.01740626059472561\n",
            "epoch:2 <40> iter:42%   loss:0.013107212260365486\n",
            "epoch:2 <50> iter:52%   loss:0.01651104912161827\n",
            "epoch:2 <60> iter:63%   loss:0.012678176164627075\n",
            "epoch:2 <70> iter:73%   loss:0.011092857457697392\n",
            "epoch:2 <80> iter:84%   loss:0.009139398112893105\n",
            "epoch:2 <90> iter:94%   loss:0.008839813992381096\n",
            "***********   epoch:2  val_loss:0.0009105901777123411***********\n",
            "epoch:3 <0> iter:0%   loss:0.009325015358626842\n",
            "epoch:3 <10> iter:10%   loss:0.007975591346621513\n",
            "epoch:3 <20> iter:21%   loss:0.013281293213367462\n",
            "epoch:3 <30> iter:31%   loss:0.00607933709397912\n",
            "epoch:3 <40> iter:42%   loss:0.011432240717113018\n",
            "epoch:3 <50> iter:52%   loss:0.010735002346336842\n",
            "epoch:3 <60> iter:63%   loss:0.0103567223995924\n",
            "epoch:3 <70> iter:73%   loss:0.008213572204113007\n",
            "epoch:3 <80> iter:84%   loss:0.007443356327712536\n",
            "epoch:3 <90> iter:94%   loss:0.005112223327159882\n",
            "***********   epoch:3  val_loss:0.00048814527690410614***********\n",
            "epoch:4 <0> iter:0%   loss:0.010119489394128323\n",
            "epoch:4 <10> iter:10%   loss:0.008513085544109344\n",
            "epoch:4 <20> iter:21%   loss:0.007332483772188425\n",
            "epoch:4 <30> iter:31%   loss:0.0038116625510156155\n",
            "epoch:4 <40> iter:42%   loss:0.0085609070956707\n",
            "epoch:4 <50> iter:52%   loss:0.005630326457321644\n",
            "epoch:4 <60> iter:63%   loss:0.007121214177459478\n",
            "epoch:4 <70> iter:73%   loss:0.006626578513532877\n",
            "epoch:4 <80> iter:84%   loss:0.006246588192880154\n",
            "epoch:4 <90> iter:94%   loss:0.006826792843639851\n",
            "***********   epoch:4  val_loss:0.00034616814130761974***********\n",
            "epoch:5 <0> iter:0%   loss:0.0057698991149663925\n",
            "epoch:5 <10> iter:10%   loss:0.005309170577675104\n",
            "epoch:5 <20> iter:21%   loss:0.00608013104647398\n",
            "epoch:5 <30> iter:31%   loss:0.004915112163871527\n",
            "epoch:5 <40> iter:42%   loss:0.004919025115668774\n",
            "epoch:5 <50> iter:52%   loss:0.006102937739342451\n",
            "epoch:5 <60> iter:63%   loss:0.004076477140188217\n",
            "epoch:5 <70> iter:73%   loss:0.0038658068515360355\n",
            "epoch:5 <80> iter:84%   loss:0.0040597738698124886\n",
            "epoch:5 <90> iter:94%   loss:0.004614339210093021\n",
            "***********   epoch:5  val_loss:0.00019948070257669315***********\n",
            "epoch:6 <0> iter:0%   loss:0.003930324222892523\n",
            "epoch:6 <10> iter:10%   loss:0.004585695918649435\n",
            "epoch:6 <20> iter:21%   loss:0.003787914291024208\n",
            "epoch:6 <30> iter:31%   loss:0.004959390498697758\n",
            "epoch:6 <40> iter:42%   loss:0.007151415105909109\n",
            "epoch:6 <50> iter:52%   loss:0.0030510665383189917\n",
            "epoch:6 <60> iter:63%   loss:0.005786950699985027\n",
            "epoch:6 <70> iter:73%   loss:0.002717735478654504\n",
            "epoch:6 <80> iter:84%   loss:0.0031852968968451023\n",
            "epoch:6 <90> iter:94%   loss:0.0054482086561620235\n",
            "***********   epoch:6  val_loss:0.00018328714116554087***********\n",
            "epoch:7 <0> iter:0%   loss:0.0027075796388089657\n",
            "epoch:7 <10> iter:10%   loss:0.0038707517087459564\n",
            "epoch:7 <20> iter:21%   loss:0.0026872092857956886\n",
            "epoch:7 <30> iter:31%   loss:0.003065169556066394\n",
            "epoch:7 <40> iter:42%   loss:0.003463690634816885\n",
            "epoch:7 <50> iter:52%   loss:0.0034898873418569565\n",
            "epoch:7 <60> iter:63%   loss:0.0030524295289069414\n",
            "epoch:7 <70> iter:73%   loss:0.0030316300690174103\n",
            "epoch:7 <80> iter:84%   loss:0.00290706311352551\n",
            "epoch:7 <90> iter:94%   loss:0.0034477259032428265\n",
            "***********   epoch:7  val_loss:0.0001703021397891765***********\n",
            "epoch:8 <0> iter:0%   loss:0.004679479636251926\n",
            "epoch:8 <10> iter:10%   loss:0.002840092871338129\n",
            "epoch:8 <20> iter:21%   loss:0.0028522342909127474\n",
            "epoch:8 <30> iter:31%   loss:0.0030883727595210075\n",
            "epoch:8 <40> iter:42%   loss:0.004299838095903397\n",
            "epoch:8 <50> iter:52%   loss:0.002113945782184601\n",
            "epoch:8 <60> iter:63%   loss:0.002906481269747019\n",
            "epoch:8 <70> iter:73%   loss:0.0029494157060980797\n",
            "epoch:8 <80> iter:84%   loss:0.0035536971408873796\n",
            "epoch:8 <90> iter:94%   loss:0.002028312534093857\n",
            "***********   epoch:8  val_loss:0.00012420676454591255***********\n",
            "epoch:9 <0> iter:0%   loss:0.003103053430095315\n",
            "epoch:9 <10> iter:10%   loss:0.0027093663811683655\n",
            "epoch:9 <20> iter:21%   loss:0.0017595315584912896\n",
            "epoch:9 <30> iter:31%   loss:0.0028995296452194452\n",
            "epoch:9 <40> iter:42%   loss:0.0016994286561384797\n",
            "epoch:9 <50> iter:52%   loss:0.0023679942823946476\n",
            "epoch:9 <60> iter:63%   loss:0.0029180250130593777\n",
            "epoch:9 <70> iter:73%   loss:0.002508704084903002\n",
            "epoch:9 <80> iter:84%   loss:0.0024335498455911875\n",
            "epoch:9 <90> iter:94%   loss:0.0025662595871835947\n",
            "***********   epoch:9  val_loss:0.00010164338915880459***********\n",
            "epoch:10 <0> iter:0%   loss:0.0033001701813191175\n",
            "epoch:10 <10> iter:10%   loss:0.002924466272816062\n",
            "epoch:10 <20> iter:21%   loss:0.0014826731057837605\n",
            "epoch:10 <30> iter:31%   loss:0.0021924548782408237\n",
            "epoch:10 <40> iter:42%   loss:0.002109488006681204\n",
            "epoch:10 <50> iter:52%   loss:0.0020519124809652567\n",
            "epoch:10 <60> iter:63%   loss:0.0023513841442763805\n",
            "epoch:10 <70> iter:73%   loss:0.0027879991102963686\n",
            "epoch:10 <80> iter:84%   loss:0.002299433806911111\n",
            "epoch:10 <90> iter:94%   loss:0.0023981998674571514\n",
            "***********   epoch:10  val_loss:8.666584035381675e-05***********\n",
            "epoch:11 <0> iter:0%   loss:0.002654310083016753\n",
            "epoch:11 <10> iter:10%   loss:0.002123151905834675\n",
            "epoch:11 <20> iter:21%   loss:0.002107712673023343\n",
            "epoch:11 <30> iter:31%   loss:0.0021564799826592207\n",
            "epoch:11 <40> iter:42%   loss:0.002408797387033701\n",
            "epoch:11 <50> iter:52%   loss:0.0016201974358409643\n",
            "epoch:11 <60> iter:63%   loss:0.0012178601464256644\n",
            "epoch:11 <70> iter:73%   loss:0.0011961838463321328\n",
            "epoch:11 <80> iter:84%   loss:0.0008959077531471848\n",
            "epoch:11 <90> iter:94%   loss:0.002151054795831442\n",
            "***********   epoch:11  val_loss:6.041546900329801e-05***********\n",
            "epoch:12 <0> iter:0%   loss:0.0014470864553004503\n",
            "epoch:12 <10> iter:10%   loss:0.0018952328246086836\n",
            "epoch:12 <20> iter:21%   loss:0.0023399970959872007\n",
            "epoch:12 <30> iter:31%   loss:0.0014980934793129563\n",
            "epoch:12 <40> iter:42%   loss:0.0021567700896412134\n",
            "epoch:12 <50> iter:52%   loss:0.0014487794833257794\n",
            "epoch:12 <60> iter:63%   loss:0.0019210083410143852\n",
            "epoch:12 <70> iter:73%   loss:0.0027120576705783606\n",
            "epoch:12 <80> iter:84%   loss:0.0010979962535202503\n",
            "epoch:12 <90> iter:94%   loss:0.001738909282721579\n",
            "***********   epoch:12  val_loss:6.012130203695657e-05***********\n",
            "epoch:13 <0> iter:0%   loss:0.0016769540961831808\n",
            "epoch:13 <10> iter:10%   loss:0.0014991206116974354\n",
            "epoch:13 <20> iter:21%   loss:0.0014306739903986454\n",
            "epoch:13 <30> iter:31%   loss:0.0011411497835069895\n",
            "epoch:13 <40> iter:42%   loss:0.001529300701804459\n",
            "epoch:13 <50> iter:52%   loss:0.0012869874481111765\n",
            "epoch:13 <60> iter:63%   loss:0.0011008265428245068\n",
            "epoch:13 <70> iter:73%   loss:0.002304169349372387\n",
            "epoch:13 <80> iter:84%   loss:0.0018024996388703585\n",
            "epoch:13 <90> iter:94%   loss:0.0014157220721244812\n",
            "***********   epoch:13  val_loss:5.3603603494896866e-05***********\n",
            "epoch:14 <0> iter:0%   loss:0.0010718246921896935\n",
            "epoch:14 <10> iter:10%   loss:0.0011109430342912674\n",
            "epoch:14 <20> iter:21%   loss:0.0013889562105759978\n",
            "epoch:14 <30> iter:31%   loss:0.0014322176575660706\n",
            "epoch:14 <40> iter:42%   loss:0.0015728722792118788\n",
            "epoch:14 <50> iter:52%   loss:0.0012360557448118925\n",
            "epoch:14 <60> iter:63%   loss:0.0018408767646178603\n",
            "epoch:14 <70> iter:73%   loss:0.0015778051456436515\n",
            "epoch:14 <80> iter:84%   loss:0.001049290644004941\n",
            "epoch:14 <90> iter:94%   loss:0.0011381111107766628\n",
            "***********   epoch:14  val_loss:5.30250205580766e-05***********\n",
            "epoch:15 <0> iter:0%   loss:0.0016924997325986624\n",
            "epoch:15 <10> iter:10%   loss:0.000988975865766406\n",
            "epoch:15 <20> iter:21%   loss:0.0012747813016176224\n",
            "epoch:15 <30> iter:31%   loss:0.0011711842380464077\n",
            "epoch:15 <40> iter:42%   loss:0.0008263460476882756\n",
            "epoch:15 <50> iter:52%   loss:0.0012937107821926475\n",
            "epoch:15 <60> iter:63%   loss:0.001036565052345395\n",
            "epoch:15 <70> iter:73%   loss:0.0010034141596406698\n",
            "epoch:15 <80> iter:84%   loss:0.0012192471185699105\n",
            "epoch:15 <90> iter:94%   loss:0.0011011833557859063\n",
            "***********   epoch:15  val_loss:2.6362463298331325e-05***********\n",
            "epoch:16 <0> iter:0%   loss:0.0012324301060289145\n",
            "epoch:16 <10> iter:10%   loss:0.0009731720201671124\n",
            "epoch:16 <20> iter:21%   loss:0.0006728379521518946\n",
            "epoch:16 <30> iter:31%   loss:0.0009149840916506946\n",
            "epoch:16 <40> iter:42%   loss:0.0010930165881291032\n",
            "epoch:16 <50> iter:52%   loss:0.0009163314243778586\n",
            "epoch:16 <60> iter:63%   loss:0.0012161672348156571\n",
            "epoch:16 <70> iter:73%   loss:0.0011405147379264235\n",
            "epoch:16 <80> iter:84%   loss:0.0006506697391159832\n",
            "epoch:16 <90> iter:94%   loss:0.0011153742671012878\n",
            "***********   epoch:16  val_loss:2.619015685922932e-05***********\n",
            "epoch:17 <0> iter:0%   loss:0.001050211489200592\n",
            "epoch:17 <10> iter:10%   loss:0.0009271021699532866\n",
            "epoch:17 <20> iter:21%   loss:0.000839854241348803\n",
            "epoch:17 <30> iter:31%   loss:0.000791289028711617\n",
            "epoch:17 <40> iter:42%   loss:0.0007608902524225414\n",
            "epoch:17 <50> iter:52%   loss:0.0011742421193048358\n",
            "epoch:17 <60> iter:63%   loss:0.0007075133034959435\n",
            "epoch:17 <70> iter:73%   loss:0.0010675620287656784\n",
            "epoch:17 <80> iter:84%   loss:0.0007267025648616254\n",
            "epoch:17 <90> iter:94%   loss:0.0006780117400921881\n",
            "***********   epoch:17  val_loss:2.0081383020927508e-05***********\n",
            "epoch:18 <0> iter:0%   loss:0.0009741584653966129\n",
            "epoch:18 <10> iter:10%   loss:0.0006304025882855058\n",
            "epoch:18 <20> iter:21%   loss:0.0013843566412106156\n",
            "epoch:18 <30> iter:31%   loss:0.0009105652570724487\n",
            "epoch:18 <40> iter:42%   loss:0.0009217363549396396\n",
            "epoch:18 <50> iter:52%   loss:0.0007514177123084664\n",
            "epoch:18 <60> iter:63%   loss:0.001007424434646964\n",
            "epoch:18 <70> iter:73%   loss:0.0008075010846368968\n",
            "epoch:18 <80> iter:84%   loss:0.001259262440726161\n",
            "epoch:18 <90> iter:94%   loss:0.00043596955947577953\n",
            "***********   epoch:18  val_loss:1.9894463730452116e-05***********\n",
            "epoch:19 <0> iter:0%   loss:0.0007199756801128387\n",
            "epoch:19 <10> iter:10%   loss:0.0014270807150751352\n",
            "epoch:19 <20> iter:21%   loss:0.0007054078741930425\n",
            "epoch:19 <30> iter:31%   loss:0.0009490969823673368\n",
            "epoch:19 <40> iter:42%   loss:0.0006815878441557288\n",
            "epoch:19 <50> iter:52%   loss:0.0009469270589761436\n",
            "epoch:19 <60> iter:63%   loss:0.0010691065108403563\n",
            "epoch:19 <70> iter:73%   loss:0.0007129366276785731\n",
            "epoch:19 <80> iter:84%   loss:0.000763074669521302\n",
            "epoch:19 <90> iter:94%   loss:0.0005864260019734502\n",
            "***********   epoch:19  val_loss:2.2520975774871962e-05***********\n",
            "train_terminated in epoch19 & model_saved\n"
          ],
          "name": "stdout"
        }
      ]
    },
    {
      "cell_type": "code",
      "metadata": {
        "id": "xNhYoF_O87-r",
        "colab_type": "code",
        "colab": {
          "base_uri": "https://localhost:8080/",
          "height": 446
        },
        "outputId": "d56c0e15-b12e-4b2d-bac5-7d72a9997ee5"
      },
      "source": [
        "plt.figure(figsize=(20,7))\n",
        "plt.plot(range(len(train_history)), train_history, 'b-', label='loss')\n",
        "plt.plot(range(len(val_history)), val_history, 'r--', label='val_loss')\n",
        "plt.xlabel('epochs')\n",
        "plt.ylabel('loss')\n",
        "plt.legend()\n",
        "plt.ylim(-0.00001,0.01)\n",
        "plt.savefig('/content/drive/My Drive/충돌체/model_history/loss_plt.png', format='png')\n",
        "plt.show()"
      ],
      "execution_count": null,
      "outputs": [
        {
          "output_type": "display_data",
          "data": {
            "image/png": "[encoded data removed]",
            "text/plain": [
              "<Figure size 1440x504 with 1 Axes>"
            ]
          },
          "metadata": {
            "tags": [],
            "needs_background": "light"
          }
        }
      ]
    },
    {
      "cell_type": "code",
      "metadata": {
        "id": "w4zIA1Mozvtc",
        "colab_type": "code",
        "colab": {}
      },
      "source": [
        "#dynamic batch size"
      ],
      "execution_count": null,
      "outputs": []
    },
    {
      "cell_type": "code",
      "metadata": {
        "id": "tshPHedpf7pl",
        "colab_type": "code",
        "colab": {}
      },
      "source": [
        "#the_model = TheModelClass(*args, **kwargs), the_model.load_state_dict(torch.load(PATH))\n",
        "#callback_function\n",
        "#gpu\n",
        "#model_extention\n",
        "#batch_normalization\n",
        "#intialization\n",
        "#save_model(model.state_dic)\n",
        "#loss_function"
      ],
      "execution_count": null,
      "outputs": []
    }
  ]
}