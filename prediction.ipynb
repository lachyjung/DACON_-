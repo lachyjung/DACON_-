{
  "nbformat": 4,
  "nbformat_minor": 0,
  "metadata": {
    "colab": {
      "name": "prediction.ipynb",
      "provenance": [],
      "collapsed_sections": [],
      "mount_file_id": "1kFmg_JhMjhBBaHNxLR21hEwGsyp6Nb4q",
      "authorship_tag": "ABX9TyNmw9OUaeWdjavUSLXrV8u6",
      "include_colab_link": true
    },
    "kernelspec": {
      "name": "python3",
      "display_name": "Python 3"
    }
  },
  "cells": [
    {
      "cell_type": "markdown",
      "metadata": {
        "id": "view-in-github",
        "colab_type": "text"
      },
      "source": [
        "<a href=\"https://colab.research.google.com/github/lachyjung/DACON_-/blob/master/prediction.ipynb\" target=\"_parent\"><img src=\"https://colab.research.google.com/assets/colab-badge.svg\" alt=\"Open In Colab\"/></a>"
      ]
    },
    {
      "cell_type": "markdown",
      "metadata": {
        "id": "yCQBY3gQDQ5k",
        "colab_type": "text"
      },
      "source": [
        ""
      ]
    },
    {
      "cell_type": "markdown",
      "metadata": {
        "id": "gvbO7EbcC8nS",
        "colab_type": "text"
      },
      "source": [
        "1.batch size와 다른 예측 input\n",
        "2.inverse minmax scaler\n",
        "csv 파일로 저장하기\n"
      ]
    },
    {
      "cell_type": "code",
      "metadata": {
        "id": "z77VsrFi9ZnI",
        "colab_type": "code",
        "colab": {}
      },
      "source": [
        "import pandas as pd\n",
        "import numpy as np\n",
        "import torch\n",
        "from torch.utils.data import Dataset, DataLoader\n",
        "from torch import nn\n",
        "from torch.nn import Module\n",
        "from sklearn.preprocessing import MinMaxScaler\n",
        "import matplotlib.pyplot as plt"
      ],
      "execution_count": null,
      "outputs": []
    },
    {
      "cell_type": "code",
      "metadata": {
        "id": "hTZhVhk7ZD2Q",
        "colab_type": "code",
        "colab": {}
      },
      "source": [
        "train_features = pd.read_csv('/content/drive/My Drive/충돌체/KAERI_dataset/train_features.csv')\n",
        "train_features = train_features.iloc[:,2:]\n",
        "\n",
        "    \n",
        "max_feature = train_features.max().max()\n",
        "min_feature = train_features.min().min()\n",
        "div_feature = max_feature - min_feature\n",
        "# self.train_features = np.divide((self.train_features-self.min_feature),self.div_feature)"
      ],
      "execution_count": null,
      "outputs": []
    },
    {
      "cell_type": "code",
      "metadata": {
        "id": "flJDe_8U9ZWI",
        "colab_type": "code",
        "colab": {}
      },
      "source": [
        "class myModel(Module):\n",
        "  def __init__(self, input_dim, hidden_dim, output_dim):\n",
        "    super(myModel,self).__init__()\n",
        "    self.lstm = nn.LSTM(input_dim, hidden_dim, 1,batch_first=True)\n",
        "    self.fc_1 = nn.Linear(hidden_dim, 50, bias=True)\n",
        "    self.fc_2= nn.Linear(50,20, bias=True)\n",
        "    self.output = nn.Linear(20, output_dim, bias=True)\n",
        "    \n",
        "    self.relu = nn.ReLU()\n",
        "    self.dropout = nn.Dropout(0.5)\n",
        "    self.hidden_dim = hidden_dim\n",
        "  \n",
        "\n",
        "  def forward(self, inputs):\n",
        "    lstm_out, hidden_cell = self.lstm(inputs, (torch.zeros(1,inputs.shape[0] ,self.hidden_dim), torch.zeros(1,inputs.shape[0] ,self.hidden_dim)))\n",
        "    layer_1 = self.dropout(self.relu(self.fc_1(hidden_cell[0])))\n",
        "    layer_2 = self.dropout(self.relu(self.fc_2(layer_1)))\n",
        "    prediction = self.output(layer_2)\n",
        "    return prediction\n"
      ],
      "execution_count": null,
      "outputs": []
    },
    {
      "cell_type": "code",
      "metadata": {
        "id": "9EV9tP6k93--",
        "colab_type": "code",
        "colab": {}
      },
      "source": [
        "class dataset(Dataset):\n",
        "  def __init__(self,min_feature,max_feature):\n",
        "    submission = pd.read_csv('/content/drive/My Drive/충돌체/KAERI_dataset/train_features.csv')\n",
        "    submission = submission.iloc[-300:,2:]\n",
        "    self.min_ = min_feature\n",
        "    self.max_ = max_feature\n",
        "    self.div_ = self.max_ - self.min_\n",
        "\n",
        "    submission = np.divide((submission - self.min_), self.div_)\n",
        "    \n",
        "    self.feed_data = torch.from_numpy(np.array(submission)).float()\n",
        "    \n",
        "    \n",
        "    submission_ = pd.read_csv('/content/drive/My Drive/충돌체/KAERI_dataset/train_target.csv')\n",
        "    \n",
        "    submission_ = np.divide((submission - self.min_), self.div_)\n",
        "    submission = submission.iloc[-300:,1:]\n",
        "    self.feed_data_ = torch.from_numpy(np.array(submission_)).float()\n",
        "    \n",
        "    self.window = 375\n",
        "\n",
        "  def __getitem__(self, index):\n",
        "    return self.feed_data[(self.window * index): (self.window * index)+ self.window], self.feed_data_[index]\n",
        "\n",
        "  def __len__(self):\n",
        "    return len(self.feed_data_)\n"
      ],
      "execution_count": null,
      "outputs": []
    },
    {
      "cell_type": "code",
      "metadata": {
        "id": "6Bc0lnN9AeAT",
        "colab_type": "code",
        "colab": {}
      },
      "source": [
        "dataloader = DataLoader(dataset=dataset(min_feature, max_feature), batch_size=1, shuffle=False)"
      ],
      "execution_count": null,
      "outputs": []
    },
    {
      "cell_type": "code",
      "metadata": {
        "id": "NTmEOt3H9qW6",
        "colab_type": "code",
        "colab": {}
      },
      "source": [
        "model = myModel(4,20,4)"
      ],
      "execution_count": null,
      "outputs": []
    },
    {
      "cell_type": "code",
      "metadata": {
        "id": "CMaJCIsYcAxB",
        "colab_type": "code",
        "colab": {
          "base_uri": "https://localhost:8080/",
          "height": 34
        },
        "outputId": "dca693ed-1450-471a-9133-4621fb8f57fc"
      },
      "source": [
        "state_dict = torch.load('/content/drive/My Drive/충돌체/model_history/best_model.pth')\n",
        "print(state_dict.keys())"
      ],
      "execution_count": null,
      "outputs": [
        {
          "output_type": "stream",
          "text": [
            "odict_keys(['lstm.weight_ih_l0', 'lstm.weight_hh_l0', 'lstm.bias_ih_l0', 'lstm.bias_hh_l0', 'fc_1.weight', 'fc_1.bias', 'fc_2.weight', 'fc_2.bias', 'output.weight', 'output.bias'])\n"
          ],
          "name": "stdout"
        }
      ]
    },
    {
      "cell_type": "code",
      "metadata": {
        "id": "rtGpE0HacBn3",
        "colab_type": "code",
        "colab": {}
      },
      "source": [
        "model.load_state_dict(state_dict)\n",
        "loss = nn.MSELoss()"
      ],
      "execution_count": null,
      "outputs": []
    },
    {
      "cell_type": "code",
      "metadata": {
        "id": "-EgMh-YYvDMK",
        "colab_type": "code",
        "colab": {}
      },
      "source": [
        "loss_sum = []\n",
        "\n",
        "for feature, target in dataloader:\n",
        "  pred = model(feature)\n",
        "  '''pred = torch.flatten(pred)\n",
        "  pred = pred.detach().numpy()\n",
        "  pred = (pred*div_feature) + min_feature\n",
        "\n",
        "\n",
        "  target = torch.flatten(target)\n",
        "  target = target.detach().numpy()\n",
        "  target = (target*div_feature) + min_feature'''\n",
        "  \n",
        "  print(pred, target)\n"
      ],
      "execution_count": null,
      "outputs": []
    },
    {
      "cell_type": "code",
      "metadata": {
        "id": "5ORO_F6awPGo",
        "colab_type": "code",
        "colab": {
          "base_uri": "https://localhost:8080/",
          "height": 105
        },
        "outputId": "3759a544-9c10-4142-db5f-029c760455f4"
      },
      "source": [
        "print(np.array(loss_sum).mean())"
      ],
      "execution_count": null,
      "outputs": [
        {
          "output_type": "stream",
          "text": [
            "nan\n"
          ],
          "name": "stdout"
        },
        {
          "output_type": "stream",
          "text": [
            "/usr/local/lib/python3.6/dist-packages/ipykernel_launcher.py:1: RuntimeWarning: Mean of empty slice.\n",
            "  \"\"\"Entry point for launching an IPython kernel.\n",
            "/usr/local/lib/python3.6/dist-packages/numpy/core/_methods.py:161: RuntimeWarning: invalid value encountered in double_scalars\n",
            "  ret = ret.dtype.type(ret / rcount)\n"
          ],
          "name": "stderr"
        }
      ]
    },
    {
      "cell_type": "code",
      "metadata": {
        "id": "kiQDq05bc6Fw",
        "colab_type": "code",
        "colab": {}
      },
      "source": [
        "submit = pd.DataFrame(columns=['X','Y','M','V'])\n",
        "\n",
        "for i,data in enumerate(dataloader):\n",
        "  pred = model(data)\n",
        "  pred = torch.flatten(pred)\n",
        "  pred = pred.detach().numpy()\n",
        "  pred = (pred*div_feature) + min_feature\n",
        "  pred = list(pred)\n",
        "  submit.loc[f'{i+2800}'] = pred\n",
        "  print(i)\n",
        "\n"
      ],
      "execution_count": null,
      "outputs": []
    },
    {
      "cell_type": "code",
      "metadata": {
        "id": "o55cAZcOePTJ",
        "colab_type": "code",
        "colab": {
          "base_uri": "https://localhost:8080/",
          "height": 598
        },
        "outputId": "a2975630-c952-495f-e809-d3a8167d4d52"
      },
      "source": [
        "print(submit.info())\n",
        "print(submit.head(20))"
      ],
      "execution_count": null,
      "outputs": [
        {
          "output_type": "stream",
          "text": [
            "<class 'pandas.core.frame.DataFrame'>\n",
            "Index: 700 entries, 2800 to 3499\n",
            "Data columns (total 4 columns):\n",
            " #   Column  Non-Null Count  Dtype  \n",
            "---  ------  --------------  -----  \n",
            " 0   X       700 non-null    float64\n",
            " 1   Y       700 non-null    float64\n",
            " 2   M       700 non-null    float64\n",
            " 3   V       700 non-null    float64\n",
            "dtypes: float64(4)\n",
            "memory usage: 27.3+ KB\n",
            "None\n",
            "             X         Y         M         V\n",
            "2800 -176768.5 -182309.5 -110073.5  -52373.5\n",
            "2801 -213585.0 -187108.0 -190038.0 -103805.0\n",
            "2802 -424422.0    8936.0 -586959.0 -626141.0\n",
            "2803 -238092.0 -194135.5 -455008.5 -324708.5\n",
            "2804 -345148.0   54710.0 -560413.0 -369791.5\n",
            "2805  134175.5  -45911.0 -200806.5  -48570.5\n",
            "2806 -109267.5  194698.0   82105.5  -23802.5\n",
            "2807  159446.0  -24005.5  -84863.0  275196.0\n",
            "2808  593032.5  -52582.5  468021.0  113614.0\n",
            "2809  -97371.5 -100532.0   55420.5 -213132.0\n",
            "2810  327574.0 -236893.0  224262.5  -92152.0\n",
            "2811    6638.0 -203553.5 -404571.0  -90886.5\n",
            "2812  126569.0  -19232.0  286801.5  465333.0\n",
            "2813 -218476.0  -51324.0  -37393.5 -416309.5\n",
            "2814   70333.0  166581.0  323711.0   50945.0\n",
            "2815  -83705.5   67756.5 -230136.0   85360.5\n",
            "2816 -257032.5 -233866.5 -509329.5 -141600.0\n",
            "2817 -354750.5 -205509.0 -496644.0 -301006.5\n",
            "2818   69049.0   43998.5  -79756.0   90810.5\n",
            "2819 -395090.0 -123320.5 -636286.0 -410324.0\n"
          ],
          "name": "stdout"
        }
      ]
    },
    {
      "cell_type": "code",
      "metadata": {
        "id": "Yma12uRxrOGc",
        "colab_type": "code",
        "colab": {}
      },
      "source": [
        "submit.index.names = ['id']"
      ],
      "execution_count": null,
      "outputs": []
    },
    {
      "cell_type": "code",
      "metadata": {
        "id": "irvtIzlesN9F",
        "colab_type": "code",
        "colab": {
          "base_uri": "https://localhost:8080/",
          "height": 404
        },
        "outputId": "b94923c7-4708-49a5-bf83-ee9422f2d0bc"
      },
      "source": [
        "print(submit.head(20))"
      ],
      "execution_count": null,
      "outputs": [
        {
          "output_type": "stream",
          "text": [
            "             X         Y         M         V\n",
            "id                                          \n",
            "2800 -176768.5 -182309.5 -110073.5  -52373.5\n",
            "2801 -213585.0 -187108.0 -190038.0 -103805.0\n",
            "2802 -424422.0    8936.0 -586959.0 -626141.0\n",
            "2803 -238092.0 -194135.5 -455008.5 -324708.5\n",
            "2804 -345148.0   54710.0 -560413.0 -369791.5\n",
            "2805  134175.5  -45911.0 -200806.5  -48570.5\n",
            "2806 -109267.5  194698.0   82105.5  -23802.5\n",
            "2807  159446.0  -24005.5  -84863.0  275196.0\n",
            "2808  593032.5  -52582.5  468021.0  113614.0\n",
            "2809  -97371.5 -100532.0   55420.5 -213132.0\n",
            "2810  327574.0 -236893.0  224262.5  -92152.0\n",
            "2811    6638.0 -203553.5 -404571.0  -90886.5\n",
            "2812  126569.0  -19232.0  286801.5  465333.0\n",
            "2813 -218476.0  -51324.0  -37393.5 -416309.5\n",
            "2814   70333.0  166581.0  323711.0   50945.0\n",
            "2815  -83705.5   67756.5 -230136.0   85360.5\n",
            "2816 -257032.5 -233866.5 -509329.5 -141600.0\n",
            "2817 -354750.5 -205509.0 -496644.0 -301006.5\n",
            "2818   69049.0   43998.5  -79756.0   90810.5\n",
            "2819 -395090.0 -123320.5 -636286.0 -410324.0\n"
          ],
          "name": "stdout"
        }
      ]
    },
    {
      "cell_type": "code",
      "metadata": {
        "id": "W6R065hEpbBe",
        "colab_type": "code",
        "colab": {}
      },
      "source": [
        "submit.to_csv('/content/drive/My Drive/충돌체/콕찔러_01.csv', sep=',', na_rep='NaN')"
      ],
      "execution_count": null,
      "outputs": []
    }
  ]
}